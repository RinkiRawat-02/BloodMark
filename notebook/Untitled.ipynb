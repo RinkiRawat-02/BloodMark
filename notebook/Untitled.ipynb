{
 "cells": [
  {
   "cell_type": "code",
   "execution_count": 2,
   "id": "c94002bf",
   "metadata": {},
   "outputs": [
    {
     "name": "stderr",
     "output_type": "stream",
     "text": [
      "WARNING:absl:Compiled the loaded model, but the compiled metrics have yet to be built. `model.compile_metrics` will be empty until you train or evaluate the model.\n"
     ]
    },
    {
     "name": "stdout",
     "output_type": "stream",
     "text": [
      "Model loaded successfully.\n"
     ]
    }
   ],
   "source": [
    "import tensorflow as tf\n",
    "\n",
    "# Load the trained model\n",
    "model = tf.keras.models.load_model(r'C:\\Users\\abdhe\\OneDrive\\Documents\\GitHub\\BloodMark\\model\\model.h5')\n",
    "print(\"Model loaded successfully.\")"
   ]
  },
  {
   "cell_type": "code",
   "execution_count": 4,
   "id": "0597de95",
   "metadata": {},
   "outputs": [],
   "source": [
    "from tensorflow.keras.preprocessing.image import load_img, img_to_array\n",
    "import numpy as np\n",
    "\n",
    "def load_and_preprocess_image(image_path, target_size=(64, 64)):\n",
    "    image = load_img(image_path, target_size=target_size)\n",
    "    image_array = img_to_array(image) / 255.0  # Normalize\n",
    "    image_array = np.expand_dims(image_array, axis=0)  # Add batch dimension\n",
    "    return image_array"
   ]
  },
  {
   "cell_type": "code",
   "execution_count": 10,
   "id": "188a5fa2",
   "metadata": {},
   "outputs": [
    {
     "name": "stdout",
     "output_type": "stream",
     "text": [
      "\u001b[1m1/1\u001b[0m \u001b[32m━━━━━━━━━━━━━━━━━━━━\u001b[0m\u001b[37m\u001b[0m \u001b[1m0s\u001b[0m 122ms/step\n",
      "Predicted Blood Group: B-\n"
     ]
    }
   ],
   "source": [
    "# Replace with the actual path to your image\n",
    "image_path = r\"C:\\Users\\abdhe\\OneDrive\\Documents\\GitHub\\BloodMark\\dataset\\A+\\augmented_cluster_0_5383.BMP\"\n",
    "image = load_and_preprocess_image(image_path)\n",
    "\n",
    "# Make prediction\n",
    "prediction = model.predict(image)\n",
    "predicted_class = np.argmax(prediction)\n",
    "\n",
    "# Define your class names (same order as during training)\n",
    "class_names = ['A+', 'A-', 'B+', 'B-', 'AB+', 'AB-', 'O+', 'O-']  # example\n",
    "print(f\"Predicted Blood Group: {class_names[predicted_class]}\")"
   ]
  },
  {
   "cell_type": "code",
   "execution_count": 11,
   "id": "aa1990a0",
   "metadata": {},
   "outputs": [
    {
     "name": "stdout",
     "output_type": "stream",
     "text": [
      "\u001b[1m1/1\u001b[0m \u001b[32m━━━━━━━━━━━━━━━━━━━━\u001b[0m\u001b[37m\u001b[0m \u001b[1m0s\u001b[0m 114ms/step\n",
      "Predicted Blood Group: AB+\n"
     ]
    }
   ],
   "source": [
    "# Replace with the actual path to your image\n",
    "image_path = r\"C:\\Users\\abdhe\\OneDrive\\Documents\\GitHub\\BloodMark\\dataset\\A+\\augmented_cluster_0_5383.BMP\"\n",
    "image = load_and_preprocess_image(image_path)\n",
    "\n",
    "# Make prediction\n",
    "prediction = model.predict(image)\n",
    "predicted_class = np.argmax(prediction)\n",
    "\n",
    "# Define your class names (same order as during training)\n",
    "class_names = ['A-', 'A+', 'AB-', 'AB+', 'B-', 'B+', 'O-', 'O+']  # example\n",
    "print(f\"Predicted Blood Group: {class_names[predicted_class]}\")"
   ]
  },
  {
   "cell_type": "code",
   "execution_count": null,
   "id": "75dc223c",
   "metadata": {},
   "outputs": [],
   "source": []
  }
 ],
 "metadata": {
  "kernelspec": {
   "display_name": "myenv",
   "language": "python",
   "name": "python3"
  },
  "language_info": {
   "codemirror_mode": {
    "name": "ipython",
    "version": 3
   },
   "file_extension": ".py",
   "mimetype": "text/x-python",
   "name": "python",
   "nbconvert_exporter": "python",
   "pygments_lexer": "ipython3",
   "version": "3.11.8"
  }
 },
 "nbformat": 4,
 "nbformat_minor": 5
}
